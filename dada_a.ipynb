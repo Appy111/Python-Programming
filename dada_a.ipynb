{
  "nbformat": 4,
  "nbformat_minor": 0,
  "metadata": {
    "colab": {
      "provenance": [],
      "authorship_tag": "ABX9TyMZ+H7P7z3LBDl/D5uRm3jh",
      "include_colab_link": true
    },
    "kernelspec": {
      "name": "python3",
      "display_name": "Python 3"
    },
    "language_info": {
      "name": "python"
    }
  },
  "cells": [
    {
      "cell_type": "markdown",
      "metadata": {
        "id": "view-in-github",
        "colab_type": "text"
      },
      "source": [
        "<a href=\"https://colab.research.google.com/github/Appy111/Python-Programming/blob/main/dada_a.ipynb\" target=\"_parent\"><img src=\"https://colab.research.google.com/assets/colab-badge.svg\" alt=\"Open In Colab\"/></a>"
      ]
    },
    {
      "cell_type": "code",
      "execution_count": null,
      "metadata": {
        "colab": {
          "base_uri": "https://localhost:8080/"
        },
        "id": "_azM-vcT8YV7",
        "outputId": "0eb0a97c-86ce-4f8f-e610-cef90f0484e9"
      },
      "outputs": [
        {
          "output_type": "stream",
          "name": "stdout",
          "text": [
            "60\n"
          ]
        }
      ],
      "source": [
        "a,b,c=10,20,30\n",
        "print(a+b+c)"
      ]
    },
    {
      "cell_type": "code",
      "source": [
        "a=b=c=d=10\n",
        "print(a+b+c+d)"
      ],
      "metadata": {
        "colab": {
          "base_uri": "https://localhost:8080/"
        },
        "id": "nkoBmoVi8tHR",
        "outputId": "515d169e-6983-4bd4-91a0-621c651370cc"
      },
      "execution_count": null,
      "outputs": [
        {
          "output_type": "stream",
          "name": "stdout",
          "text": [
            "40\n"
          ]
        }
      ]
    },
    {
      "cell_type": "code",
      "source": [
        "a=40\n",
        "print(a)\n",
        "a=50\n",
        "print(a)"
      ],
      "metadata": {
        "colab": {
          "base_uri": "https://localhost:8080/"
        },
        "id": "Xloxv2nX82N_",
        "outputId": "549656fd-4ca4-41b9-ced0-80d9fa4d1197"
      },
      "execution_count": null,
      "outputs": [
        {
          "output_type": "stream",
          "name": "stdout",
          "text": [
            "40\n",
            "50\n"
          ]
        }
      ]
    },
    {
      "cell_type": "code",
      "source": [
        "a=20\n",
        "print(type(a))"
      ],
      "metadata": {
        "colab": {
          "base_uri": "https://localhost:8080/"
        },
        "id": "wGvK506d9ANU",
        "outputId": "0f1ff432-7b82-4f91-fc30-b757466a45f2"
      },
      "execution_count": null,
      "outputs": [
        {
          "output_type": "stream",
          "name": "stdout",
          "text": [
            "<class 'int'>\n"
          ]
        }
      ]
    },
    {
      "cell_type": "code",
      "source": [
        "a='Apurvi'\n",
        "print(a[2])"
      ],
      "metadata": {
        "colab": {
          "base_uri": "https://localhost:8080/"
        },
        "id": "pyDxLcj49L36",
        "outputId": "49ed4031-3400-4962-cff5-0fefb84561a5"
      },
      "execution_count": null,
      "outputs": [
        {
          "output_type": "stream",
          "name": "stdout",
          "text": [
            "u\n"
          ]
        }
      ]
    },
    {
      "cell_type": "code",
      "source": [
        "a='Apurvi'\n",
        "for b in a:\n",
        "  print(b)"
      ],
      "metadata": {
        "colab": {
          "base_uri": "https://localhost:8080/"
        },
        "id": "th0RqOct9gTp",
        "outputId": "cc362d8e-849a-4710-a668-eb6610c60143"
      },
      "execution_count": null,
      "outputs": [
        {
          "output_type": "stream",
          "name": "stdout",
          "text": [
            "A\n",
            "p\n",
            "u\n",
            "r\n",
            "v\n",
            "i\n"
          ]
        }
      ]
    },
    {
      "cell_type": "code",
      "source": [
        "a='Apurvi'\n",
        "b=0\n",
        "while b<(len(a)):\n",
        "  print(a[b])\n",
        "  b=b+1"
      ],
      "metadata": {
        "colab": {
          "base_uri": "https://localhost:8080/"
        },
        "id": "Z1V0yFEa9uZn",
        "outputId": "2ee88aa7-f947-4705-b105-aab0d1488035"
      },
      "execution_count": null,
      "outputs": [
        {
          "output_type": "stream",
          "name": "stdout",
          "text": [
            "A\n",
            "p\n",
            "u\n",
            "r\n",
            "v\n",
            "i\n"
          ]
        }
      ]
    },
    {
      "cell_type": "code",
      "source": [
        "a=[]\n",
        "print(a)"
      ],
      "metadata": {
        "colab": {
          "base_uri": "https://localhost:8080/"
        },
        "id": "SUqquMvy-mqr",
        "outputId": "f6d02942-537f-444e-f803-91a775b38ba7"
      },
      "execution_count": null,
      "outputs": [
        {
          "output_type": "stream",
          "name": "stdout",
          "text": [
            "[]\n"
          ]
        }
      ]
    },
    {
      "cell_type": "code",
      "source": [
        "a=[1,2,3]\n",
        "print(a)"
      ],
      "metadata": {
        "colab": {
          "base_uri": "https://localhost:8080/"
        },
        "id": "_XHhCM7mEfPJ",
        "outputId": "44360cbf-7e01-49df-8976-9b7dd349561b"
      },
      "execution_count": null,
      "outputs": [
        {
          "output_type": "stream",
          "name": "stdout",
          "text": [
            "[1, 2, 3]\n"
          ]
        }
      ]
    },
    {
      "cell_type": "code",
      "source": [
        "r=range(0,100)\n",
        "l=list(r)\n",
        "print(l)"
      ],
      "metadata": {
        "colab": {
          "base_uri": "https://localhost:8080/"
        },
        "id": "FeL90XEREioa",
        "outputId": "1d3e7a21-0760-4803-c3e3-08fecdf658a2"
      },
      "execution_count": null,
      "outputs": [
        {
          "output_type": "stream",
          "name": "stdout",
          "text": [
            "[0, 1, 2, 3, 4, 5, 6, 7, 8, 9, 10, 11, 12, 13, 14, 15, 16, 17, 18, 19, 20, 21, 22, 23, 24, 25, 26, 27, 28, 29, 30, 31, 32, 33, 34, 35, 36, 37, 38, 39, 40, 41, 42, 43, 44, 45, 46, 47, 48, 49, 50, 51, 52, 53, 54, 55, 56, 57, 58, 59, 60, 61, 62, 63, 64, 65, 66, 67, 68, 69, 70, 71, 72, 73, 74, 75, 76, 77, 78, 79, 80, 81, 82, 83, 84, 85, 86, 87, 88, 89, 90, 91, 92, 93, 94, 95, 96, 97, 98, 99]\n"
          ]
        }
      ]
    },
    {
      "cell_type": "code",
      "source": [
        "a=[10,20,30]\n",
        "print(a)\n",
        "a=[100,20,30]\n",
        "print(a)"
      ],
      "metadata": {
        "colab": {
          "base_uri": "https://localhost:8080/"
        },
        "id": "Uk6vVdyqE84i",
        "outputId": "9cff3e9a-222e-471c-d391-272a1ee65cec"
      },
      "execution_count": null,
      "outputs": [
        {
          "output_type": "stream",
          "name": "stdout",
          "text": [
            "[10, 20, 30]\n",
            "[100, 20, 30]\n"
          ]
        }
      ]
    },
    {
      "cell_type": "code",
      "source": [
        "print(a[0])"
      ],
      "metadata": {
        "colab": {
          "base_uri": "https://localhost:8080/"
        },
        "id": "901RYm1zFE0d",
        "outputId": "70b64a70-2217-4a43-e56a-25a0758c2b81"
      },
      "execution_count": null,
      "outputs": [
        {
          "output_type": "stream",
          "name": "stdout",
          "text": [
            "100\n"
          ]
        }
      ]
    },
    {
      "cell_type": "code",
      "source": [
        "print(l[::2])"
      ],
      "metadata": {
        "colab": {
          "base_uri": "https://localhost:8080/"
        },
        "id": "IGmFRpbjFLWE",
        "outputId": "2ca595df-99ae-4f41-9bc2-de72b26a4661"
      },
      "execution_count": null,
      "outputs": [
        {
          "output_type": "stream",
          "name": "stdout",
          "text": [
            "[0, 2, 4, 6, 8, 10, 12, 14, 16, 18, 20, 22, 24, 26, 28, 30, 32, 34, 36, 38, 40, 42, 44, 46, 48, 50, 52, 54, 56, 58, 60, 62, 64, 66, 68, 70, 72, 74, 76, 78, 80, 82, 84, 86, 88, 90, 92, 94, 96, 98]\n"
          ]
        }
      ]
    },
    {
      "cell_type": "code",
      "source": [
        "for i in l:\n",
        "  print(i)"
      ],
      "metadata": {
        "colab": {
          "base_uri": "https://localhost:8080/"
        },
        "id": "BmXMvcWdFYzL",
        "outputId": "b1d002f2-fb3f-4e99-aee7-43f7d7daa62f"
      },
      "execution_count": null,
      "outputs": [
        {
          "output_type": "stream",
          "name": "stdout",
          "text": [
            "0\n",
            "1\n",
            "2\n",
            "3\n",
            "4\n",
            "5\n",
            "6\n",
            "7\n",
            "8\n",
            "9\n",
            "10\n",
            "11\n",
            "12\n",
            "13\n",
            "14\n",
            "15\n",
            "16\n",
            "17\n",
            "18\n",
            "19\n",
            "20\n",
            "21\n",
            "22\n",
            "23\n",
            "24\n",
            "25\n",
            "26\n",
            "27\n",
            "28\n",
            "29\n",
            "30\n",
            "31\n",
            "32\n",
            "33\n",
            "34\n",
            "35\n",
            "36\n",
            "37\n",
            "38\n",
            "39\n",
            "40\n",
            "41\n",
            "42\n",
            "43\n",
            "44\n",
            "45\n",
            "46\n",
            "47\n",
            "48\n",
            "49\n",
            "50\n",
            "51\n",
            "52\n",
            "53\n",
            "54\n",
            "55\n",
            "56\n",
            "57\n",
            "58\n",
            "59\n",
            "60\n",
            "61\n",
            "62\n",
            "63\n",
            "64\n",
            "65\n",
            "66\n",
            "67\n",
            "68\n",
            "69\n",
            "70\n",
            "71\n",
            "72\n",
            "73\n",
            "74\n",
            "75\n",
            "76\n",
            "77\n",
            "78\n",
            "79\n",
            "80\n",
            "81\n",
            "82\n",
            "83\n",
            "84\n",
            "85\n",
            "86\n",
            "87\n",
            "88\n",
            "89\n",
            "90\n",
            "91\n",
            "92\n",
            "93\n",
            "94\n",
            "95\n",
            "96\n",
            "97\n",
            "98\n",
            "99\n"
          ]
        }
      ]
    },
    {
      "cell_type": "code",
      "source": [
        "a=range(0,11,2)\n",
        "i=0\n",
        "while i<len(a):\n",
        "  print(a[i])\n",
        "  i=i+1"
      ],
      "metadata": {
        "colab": {
          "base_uri": "https://localhost:8080/"
        },
        "id": "GhyYuByjFjPd",
        "outputId": "bcd9edcb-f65a-4613-fca1-a2c3984aad2f"
      },
      "execution_count": null,
      "outputs": [
        {
          "output_type": "stream",
          "name": "stdout",
          "text": [
            "0\n",
            "2\n",
            "4\n",
            "6\n",
            "8\n",
            "10\n"
          ]
        }
      ]
    },
    {
      "cell_type": "code",
      "source": [
        "l=list(range(0,31,3))\n",
        "print(l)"
      ],
      "metadata": {
        "colab": {
          "base_uri": "https://localhost:8080/"
        },
        "id": "UiV5gyxeF6M-",
        "outputId": "c5d1371d-bd25-43e4-b981-2fbc5cb1f87c"
      },
      "execution_count": null,
      "outputs": [
        {
          "output_type": "stream",
          "name": "stdout",
          "text": [
            "[0, 3, 6, 9, 12, 15, 18, 21, 24, 27, 30]\n"
          ]
        }
      ]
    },
    {
      "cell_type": "code",
      "source": [
        "print(len(l))"
      ],
      "metadata": {
        "colab": {
          "base_uri": "https://localhost:8080/"
        },
        "id": "PTLSkj3cGWvd",
        "outputId": "1bea26c5-59dd-446a-a800-0e60b48d339f"
      },
      "execution_count": null,
      "outputs": [
        {
          "output_type": "stream",
          "name": "stdout",
          "text": [
            "11\n"
          ]
        }
      ]
    },
    {
      "cell_type": "code",
      "source": [
        "print(l.count(12))"
      ],
      "metadata": {
        "colab": {
          "base_uri": "https://localhost:8080/"
        },
        "id": "vTJfN9AGGbhD",
        "outputId": "1584599c-410c-485f-da0d-1882a7c180ad"
      },
      "execution_count": null,
      "outputs": [
        {
          "output_type": "stream",
          "name": "stdout",
          "text": [
            "1\n"
          ]
        }
      ]
    },
    {
      "cell_type": "code",
      "source": [
        "l.append(list(range(31,61,3)))\n",
        "print(l)"
      ],
      "metadata": {
        "colab": {
          "base_uri": "https://localhost:8080/"
        },
        "id": "oZigVQWnGgWm",
        "outputId": "3ddd2b93-1156-40c6-ec04-aa55fa125131"
      },
      "execution_count": null,
      "outputs": [
        {
          "output_type": "stream",
          "name": "stdout",
          "text": [
            "[0, 3, 6, 9, 12, 15, 18, 21, 24, 27, 30, range(31, 61, 3), [31, 34, 37, 40, 43, 46, 49, 52, 55, 58]]\n"
          ]
        }
      ]
    },
    {
      "cell_type": "code",
      "source": [
        "b=list(range(31,61,3))\n",
        "print(b)"
      ],
      "metadata": {
        "colab": {
          "base_uri": "https://localhost:8080/"
        },
        "id": "bdfD40D0Gtno",
        "outputId": "1047cb14-fb21-4ae0-e79a-a6666416d53f"
      },
      "execution_count": null,
      "outputs": [
        {
          "output_type": "stream",
          "name": "stdout",
          "text": [
            "[31, 34, 37, 40, 43, 46, 49, 52, 55, 58]\n"
          ]
        }
      ]
    },
    {
      "cell_type": "code",
      "source": [
        "l.append(b)\n",
        "print(l)"
      ],
      "metadata": {
        "colab": {
          "base_uri": "https://localhost:8080/"
        },
        "id": "eRFYDoe3G-wB",
        "outputId": "ea39de1b-a405-4bab-9720-b7881a2d2cb0"
      },
      "execution_count": null,
      "outputs": [
        {
          "output_type": "stream",
          "name": "stdout",
          "text": [
            "[0, 3, 6, 9, 12, 15, 18, 21, 24, 27, 30, range(31, 61, 3), [31, 34, 37, 40, 43, 46, 49, 52, 55, 58], [31, 34, 37, 40, 43, 46, 49, 52, 55, 58], [31, 34, 37, 40, 43, 46, 49, 52, 55, 58], [31, 34, 37, 40, 43, 46, 49, 52, 55, 58], [31, 34, 37, 40, 43, 46, 49, 52, 55, 58], [31, 34, 37, 40, 43, 46, 49, 52, 55, 58]]\n"
          ]
        }
      ]
    },
    {
      "cell_type": "code",
      "source": [
        "a=list(range(0,41,4))\n",
        "print(a)"
      ],
      "metadata": {
        "colab": {
          "base_uri": "https://localhost:8080/"
        },
        "id": "qEGKqEr4HCMB",
        "outputId": "1abb6317-1398-4916-fc7e-6575be92854e"
      },
      "execution_count": null,
      "outputs": [
        {
          "output_type": "stream",
          "name": "stdout",
          "text": [
            "[0, 4, 8, 12, 16, 20, 24, 28, 32, 36, 40]\n"
          ]
        }
      ]
    },
    {
      "cell_type": "code",
      "source": [
        "b=list(range(40,81,4))\n",
        "print(b)"
      ],
      "metadata": {
        "colab": {
          "base_uri": "https://localhost:8080/"
        },
        "id": "cSZ03zJ8H1J8",
        "outputId": "05f5a08a-09ba-405e-8ac8-c15334d8eccb"
      },
      "execution_count": null,
      "outputs": [
        {
          "output_type": "stream",
          "name": "stdout",
          "text": [
            "[40, 44, 48, 52, 56, 60, 64, 68, 72, 76, 80]\n"
          ]
        }
      ]
    },
    {
      "cell_type": "code",
      "source": [
        "a.append(b)\n",
        "print(a)"
      ],
      "metadata": {
        "colab": {
          "base_uri": "https://localhost:8080/"
        },
        "id": "piqXvrk1H_au",
        "outputId": "24b4edc4-fb80-48e6-c3d2-5e6b210bfabb"
      },
      "execution_count": null,
      "outputs": [
        {
          "output_type": "stream",
          "name": "stdout",
          "text": [
            "[0, 4, 8, 12, 16, 20, 24, 28, 32, 36, 40, [40, 44, 48, 52, 56, 60, 64, 68, 72, 76, 80]]\n"
          ]
        }
      ]
    },
    {
      "cell_type": "code",
      "source": [
        "a=[1,2,3]\n",
        "a.insert(0,0)\n",
        "a.insert(7,4)\n",
        "print(a)"
      ],
      "metadata": {
        "colab": {
          "base_uri": "https://localhost:8080/"
        },
        "id": "Xvl5Ds3yIIB8",
        "outputId": "80ad9f44-7315-4b99-c2ed-18dab289702e"
      },
      "execution_count": null,
      "outputs": [
        {
          "output_type": "stream",
          "name": "stdout",
          "text": [
            "[0, 1, 2, 3, 4]\n"
          ]
        }
      ]
    },
    {
      "cell_type": "code",
      "source": [
        "b=list(range(44,81,4))\n",
        "print(b)"
      ],
      "metadata": {
        "colab": {
          "base_uri": "https://localhost:8080/"
        },
        "id": "yvheSkmMIggO",
        "outputId": "e97b7d53-f6f3-4ab6-ea4a-90498f53667b"
      },
      "execution_count": null,
      "outputs": [
        {
          "output_type": "stream",
          "name": "stdout",
          "text": [
            "[44, 48, 52, 56, 60, 64, 68, 72, 76, 80]\n"
          ]
        }
      ]
    },
    {
      "cell_type": "code",
      "source": [
        "a=list(range(0,41,4))\n",
        "print(a)"
      ],
      "metadata": {
        "colab": {
          "base_uri": "https://localhost:8080/"
        },
        "id": "jO7IFMpAIai7",
        "outputId": "3b581334-3d9e-4d21-9677-04f56be0dc28"
      },
      "execution_count": null,
      "outputs": [
        {
          "output_type": "stream",
          "name": "stdout",
          "text": [
            "[0, 4, 8, 12, 16, 20, 24, 28, 32, 36, 40]\n"
          ]
        }
      ]
    },
    {
      "cell_type": "code",
      "source": [
        "a.extend(b)\n",
        "print(a)"
      ],
      "metadata": {
        "colab": {
          "base_uri": "https://localhost:8080/"
        },
        "id": "lx4sAfloInQR",
        "outputId": "70f56453-3dca-4708-f0ec-93c565e6e5ad"
      },
      "execution_count": null,
      "outputs": [
        {
          "output_type": "stream",
          "name": "stdout",
          "text": [
            "[0, 4, 8, 12, 16, 20, 24, 28, 32, 36, 40, 44, 48, 52, 56, 60, 64, 68, 72, 76, 80]\n"
          ]
        }
      ]
    },
    {
      "cell_type": "code",
      "source": [
        "a=[1,2,4,7,2,2,8,9]\n",
        "a.remove(2)\n",
        "print(a)"
      ],
      "metadata": {
        "colab": {
          "base_uri": "https://localhost:8080/"
        },
        "id": "oCBnJqj0IxMB",
        "outputId": "4936c129-37c8-45a3-df89-24ac04e0ad08"
      },
      "execution_count": null,
      "outputs": [
        {
          "output_type": "stream",
          "name": "stdout",
          "text": [
            "[1, 4, 7, 2, 2, 8, 9]\n"
          ]
        }
      ]
    },
    {
      "cell_type": "code",
      "source": [
        "a.pop(2)\n",
        "print(a)\n",
        "a.pop()\n",
        "print(a)"
      ],
      "metadata": {
        "colab": {
          "base_uri": "https://localhost:8080/"
        },
        "id": "PMxMRsVCJbk7",
        "outputId": "80941ae4-c8d0-4b40-81e6-bdba004a68ea"
      },
      "execution_count": null,
      "outputs": [
        {
          "output_type": "stream",
          "name": "stdout",
          "text": [
            "[1, 4, 2, 8, 9]\n",
            "[1, 4, 2, 8]\n"
          ]
        }
      ]
    },
    {
      "cell_type": "code",
      "source": [
        "a.reverse()\n",
        "print(a)"
      ],
      "metadata": {
        "colab": {
          "base_uri": "https://localhost:8080/"
        },
        "id": "4MHMlFy4Jp6L",
        "outputId": "d0271bc3-f64e-493c-d017-188cde5ef8c0"
      },
      "execution_count": null,
      "outputs": [
        {
          "output_type": "stream",
          "name": "stdout",
          "text": [
            "[8, 2, 4, 1]\n"
          ]
        }
      ]
    },
    {
      "cell_type": "code",
      "source": [
        "a=[1,2,4,7,2,2,8,9]\n",
        "a.sort()\n",
        "print(a)"
      ],
      "metadata": {
        "colab": {
          "base_uri": "https://localhost:8080/"
        },
        "id": "lLa9yhHOJwAT",
        "outputId": "e3e97a68-d45d-4bd1-8f89-470818d49c3c"
      },
      "execution_count": null,
      "outputs": [
        {
          "output_type": "stream",
          "name": "stdout",
          "text": [
            "[1, 2, 2, 2, 4, 7, 8, 9]\n"
          ]
        }
      ]
    },
    {
      "cell_type": "code",
      "source": [
        "a=list(range(0,10,2))\n",
        "print(a)\n",
        "b=a\n",
        "print(b)\n",
        "print(id(a))\n",
        "print(id(b))\n",
        "b.insert(10,5)\n",
        "print(b)\n",
        "print(a)\n",
        "print(id(a))\n",
        "print(id(b))"
      ],
      "metadata": {
        "colab": {
          "base_uri": "https://localhost:8080/"
        },
        "id": "UNDlUkS3JzZ5",
        "outputId": "d32e774a-b141-42a0-888a-2b8ab00fd8cf"
      },
      "execution_count": null,
      "outputs": [
        {
          "output_type": "stream",
          "name": "stdout",
          "text": [
            "[0, 2, 4, 6, 8]\n",
            "[0, 2, 4, 6, 8]\n",
            "133118754404416\n",
            "133118754404416\n",
            "[0, 2, 4, 6, 8, 5]\n",
            "[0, 2, 4, 6, 8, 5]\n",
            "133118754404416\n",
            "133118754404416\n"
          ]
        }
      ]
    },
    {
      "cell_type": "code",
      "source": [
        "a=list(range(0,10,2))\n",
        "print(a)\n",
        "b=a.copy()\n",
        "print(b)\n",
        "print(id(a))\n",
        "print(id(b))\n",
        "b.insert(10,5)\n",
        "print(b)\n",
        "print(a)\n",
        "print(id(a))\n",
        "print(id(b))"
      ],
      "metadata": {
        "colab": {
          "base_uri": "https://localhost:8080/"
        },
        "id": "9rOYnr-WLDqY",
        "outputId": "e68e0da9-7f21-4770-b399-f312ddf38710"
      },
      "execution_count": null,
      "outputs": [
        {
          "output_type": "stream",
          "name": "stdout",
          "text": [
            "[0, 2, 4, 6, 8]\n",
            "[0, 2, 4, 6, 8]\n",
            "133118754393088\n",
            "133118754394496\n",
            "[0, 2, 4, 6, 8, 5]\n",
            "[0, 2, 4, 6, 8]\n",
            "133118754393088\n",
            "133118754394496\n"
          ]
        }
      ]
    },
    {
      "cell_type": "code",
      "source": [
        "a=list(range(0,10,2))\n",
        "print(a)\n",
        "b=a[:]\n",
        "print(b)\n",
        "print(id(a))\n",
        "print(id(b))\n",
        "b.insert(10,5)\n",
        "print(b)\n",
        "print(a)\n",
        "print(id(a))\n",
        "print(id(b))"
      ],
      "metadata": {
        "colab": {
          "base_uri": "https://localhost:8080/"
        },
        "id": "4tgTkEE6LQNA",
        "outputId": "eaf2419b-e73d-4774-ecff-20282dd39c2d"
      },
      "execution_count": null,
      "outputs": [
        {
          "output_type": "stream",
          "name": "stdout",
          "text": [
            "[0, 2, 4, 6, 8]\n",
            "[0, 2, 4, 6, 8]\n",
            "133118755159488\n",
            "133118755249408\n",
            "[0, 2, 4, 6, 8, 5]\n",
            "[0, 2, 4, 6, 8]\n",
            "133118755159488\n",
            "133118755249408\n"
          ]
        }
      ]
    },
    {
      "cell_type": "code",
      "source": [
        "c=a+b\n",
        "print(c)"
      ],
      "metadata": {
        "colab": {
          "base_uri": "https://localhost:8080/"
        },
        "id": "eQWHulfhLWfE",
        "outputId": "cadad0c4-699e-4c88-ca53-969110f3ddc1"
      },
      "execution_count": null,
      "outputs": [
        {
          "output_type": "stream",
          "name": "stdout",
          "text": [
            "[0, 2, 4, 6, 8, 0, 2, 4, 6, 8, 5]\n"
          ]
        }
      ]
    },
    {
      "cell_type": "code",
      "source": [
        "print(c*3)"
      ],
      "metadata": {
        "colab": {
          "base_uri": "https://localhost:8080/"
        },
        "id": "zsTwI8pVLv5k",
        "outputId": "db202324-4a4d-4665-86fb-ab687c3bdb19"
      },
      "execution_count": null,
      "outputs": [
        {
          "output_type": "stream",
          "name": "stdout",
          "text": [
            "[0, 2, 4, 6, 8, 0, 2, 4, 6, 8, 5, 0, 2, 4, 6, 8, 0, 2, 4, 6, 8, 5, 0, 2, 4, 6, 8, 0, 2, 4, 6, 8, 5]\n"
          ]
        }
      ]
    },
    {
      "cell_type": "code",
      "source": [
        "print(10 in c)\n",
        "print(8 in c)\n",
        "print(10 not in c)"
      ],
      "metadata": {
        "colab": {
          "base_uri": "https://localhost:8080/"
        },
        "id": "UAOkWCo8K-bI",
        "outputId": "eefb5c9f-9d8a-480a-d481-658098b0abc4"
      },
      "execution_count": null,
      "outputs": [
        {
          "output_type": "stream",
          "name": "stdout",
          "text": [
            "False\n",
            "True\n",
            "True\n"
          ]
        }
      ]
    },
    {
      "cell_type": "code",
      "source": [
        "a=list(range(0,41,4))\n",
        "b=list(range(44,81,4))\n",
        "l=b\n",
        "print(a,l)\n",
        "c=[0, 4, 8, 12, 16, 20, 24, 28, 32, 36, 40,l]\n",
        "print(c[4])\n",
        "print(c[11])"
      ],
      "metadata": {
        "colab": {
          "base_uri": "https://localhost:8080/"
        },
        "id": "iKOYOLsGKi0k",
        "outputId": "fa6c0772-7d56-417d-fa05-300ba7a98783"
      },
      "execution_count": null,
      "outputs": [
        {
          "output_type": "stream",
          "name": "stdout",
          "text": [
            "[0, 4, 8, 12, 16, 20, 24, 28, 32, 36, 40] [44, 48, 52, 56, 60, 64, 68, 72, 76, 80]\n",
            "16\n",
            "[44, 48, 52, 56, 60, 64, 68, 72, 76, 80]\n"
          ]
        }
      ]
    },
    {
      "cell_type": "code",
      "source": [
        "a=list(range(0,15))\n",
        "print(type(a))\n",
        "b=[]\n",
        "for i in a:\n",
        "  b.append(i*2)\n",
        "print(b)"
      ],
      "metadata": {
        "colab": {
          "base_uri": "https://localhost:8080/"
        },
        "id": "zYADqaONPJrh",
        "outputId": "fea5d22a-547a-4f9f-dd91-0a7aa562f175"
      },
      "execution_count": null,
      "outputs": [
        {
          "output_type": "stream",
          "name": "stdout",
          "text": [
            "<class 'list'>\n",
            "[0, 2, 4, 6, 8, 10, 12, 14, 16, 18, 20, 22, 24, 26, 28]\n"
          ]
        }
      ]
    },
    {
      "cell_type": "code",
      "source": [
        "#tuple"
      ],
      "metadata": {
        "id": "cWGHRCQWPnBU"
      },
      "execution_count": null,
      "outputs": []
    },
    {
      "cell_type": "code",
      "source": [
        "a=range(1,10)\n",
        "print(type(a))\n",
        "print(len(a))\n",
        "print(a.count(4))\n",
        "print(a.index(6))\n",
        "print(sorted(a))\n",
        "print(sorted(a,reverse=True))\n",
        "print(min(a))\n",
        "print(max(a))"
      ],
      "metadata": {
        "colab": {
          "base_uri": "https://localhost:8080/"
        },
        "id": "a0UHcL5XOyWI",
        "outputId": "5c1f864b-37ce-4b8d-f178-ad6d2a0d70df"
      },
      "execution_count": null,
      "outputs": [
        {
          "output_type": "stream",
          "name": "stdout",
          "text": [
            "<class 'range'>\n",
            "9\n",
            "1\n",
            "5\n",
            "[1, 2, 3, 4, 5, 6, 7, 8, 9]\n",
            "[9, 8, 7, 6, 5, 4, 3, 2, 1]\n",
            "1\n",
            "9\n"
          ]
        }
      ]
    },
    {
      "cell_type": "code",
      "source": [
        "a=1\n",
        "b=2\n",
        "c=3\n",
        "d=a,b,c\n",
        "print(d)"
      ],
      "metadata": {
        "colab": {
          "base_uri": "https://localhost:8080/"
        },
        "id": "pthhNRGFRjEl",
        "outputId": "712388da-6836-4c2f-ad0b-f4bf1044d427"
      },
      "execution_count": null,
      "outputs": [
        {
          "output_type": "stream",
          "name": "stdout",
          "text": [
            "(1, 2, 3)\n"
          ]
        }
      ]
    },
    {
      "cell_type": "code",
      "source": [
        "d=(1, 2, 3)\n",
        "a,b,c=d\n",
        "print(a,b,c)"
      ],
      "metadata": {
        "colab": {
          "base_uri": "https://localhost:8080/"
        },
        "id": "6PUxwTQcR75L",
        "outputId": "4a652f77-035c-4f0c-8654-afafab6c5603"
      },
      "execution_count": null,
      "outputs": [
        {
          "output_type": "stream",
          "name": "stdout",
          "text": [
            "1 2 3\n"
          ]
        }
      ]
    },
    {
      "cell_type": "code",
      "source": [
        "#set"
      ],
      "metadata": {
        "id": "XDAWGs_rSEYr"
      },
      "execution_count": null,
      "outputs": []
    },
    {
      "cell_type": "code",
      "source": [
        "a={1,1,2,3,4,5,5,6,7,8,8,10}\n",
        "print(a)"
      ],
      "metadata": {
        "colab": {
          "base_uri": "https://localhost:8080/"
        },
        "id": "1AY6N3vLS6PQ",
        "outputId": "88a41c7c-df48-4983-a713-2b81df83790b"
      },
      "execution_count": null,
      "outputs": [
        {
          "output_type": "stream",
          "name": "stdout",
          "text": [
            "{1, 2, 3, 4, 5, 6, 7, 8, 10}\n"
          ]
        }
      ]
    },
    {
      "cell_type": "code",
      "source": [
        "b=set()\n",
        "print(b)\n",
        "print(type(a))"
      ],
      "metadata": {
        "colab": {
          "base_uri": "https://localhost:8080/"
        },
        "id": "lwrKr56nTEy0",
        "outputId": "a3309a77-c9a0-4ddb-c9fb-ab98ecd189f7"
      },
      "execution_count": null,
      "outputs": [
        {
          "output_type": "stream",
          "name": "stdout",
          "text": [
            "set()\n",
            "<class 'set'>\n"
          ]
        }
      ]
    },
    {
      "cell_type": "code",
      "source": [
        "a={1,1,2,3,4,5,5,6,7,8,8,10}\n",
        "a.add(11)\n",
        "print(a)"
      ],
      "metadata": {
        "colab": {
          "base_uri": "https://localhost:8080/"
        },
        "id": "6YEwDUl2TcB4",
        "outputId": "2c2b60d6-a1b3-443b-b2ae-5b3fc608a029"
      },
      "execution_count": null,
      "outputs": [
        {
          "output_type": "stream",
          "name": "stdout",
          "text": [
            "{1, 2, 3, 4, 5, 6, 7, 8, 10, 11}\n"
          ]
        }
      ]
    },
    {
      "cell_type": "code",
      "source": [
        "a.update(a,range(11,21))\n",
        "print(a)"
      ],
      "metadata": {
        "colab": {
          "base_uri": "https://localhost:8080/"
        },
        "id": "BNWWB7OXT7aT",
        "outputId": "6d4a0390-e488-4510-98e0-1322d0a73d98"
      },
      "execution_count": null,
      "outputs": [
        {
          "output_type": "stream",
          "name": "stdout",
          "text": [
            "{1, 2, 3, 4, 5, 6, 7, 8, 10, 11, 12, 13, 14, 15, 16, 17, 18, 19, 20}\n"
          ]
        }
      ]
    },
    {
      "cell_type": "code",
      "source": [
        "a.pop()\n",
        "print(a)"
      ],
      "metadata": {
        "colab": {
          "base_uri": "https://localhost:8080/"
        },
        "id": "6SbtdYMdUSM-",
        "outputId": "2ea721c2-252c-45d5-eead-a278510c33ac"
      },
      "execution_count": null,
      "outputs": [
        {
          "output_type": "stream",
          "name": "stdout",
          "text": [
            "{2, 3, 4, 5, 6, 7, 8, 10, 11, 12, 13, 14, 15, 16, 17, 18, 19, 20}\n"
          ]
        }
      ]
    },
    {
      "cell_type": "code",
      "source": [
        "a.remove(4)\n",
        "print(a)\n",
        "a.remove(22)"
      ],
      "metadata": {
        "colab": {
          "base_uri": "https://localhost:8080/",
          "height": 193
        },
        "id": "d5mm49z2UWwP",
        "outputId": "92acafc9-b4d7-43c2-95c4-8dc6022ad6b6"
      },
      "execution_count": null,
      "outputs": [
        {
          "output_type": "stream",
          "name": "stdout",
          "text": [
            "{2, 3, 5, 6, 7, 8, 10, 11, 12, 13, 14, 15, 16, 17, 18, 19, 20}\n"
          ]
        },
        {
          "output_type": "error",
          "ename": "KeyError",
          "evalue": "22",
          "traceback": [
            "\u001b[0;31m---------------------------------------------------------------------------\u001b[0m",
            "\u001b[0;31mKeyError\u001b[0m                                  Traceback (most recent call last)",
            "\u001b[0;32m<ipython-input-99-d3e11b57fcf9>\u001b[0m in \u001b[0;36m<cell line: 0>\u001b[0;34m()\u001b[0m\n\u001b[1;32m      1\u001b[0m \u001b[0ma\u001b[0m\u001b[0;34m.\u001b[0m\u001b[0mremove\u001b[0m\u001b[0;34m(\u001b[0m\u001b[0;36m4\u001b[0m\u001b[0;34m)\u001b[0m\u001b[0;34m\u001b[0m\u001b[0;34m\u001b[0m\u001b[0m\n\u001b[1;32m      2\u001b[0m \u001b[0mprint\u001b[0m\u001b[0;34m(\u001b[0m\u001b[0ma\u001b[0m\u001b[0;34m)\u001b[0m\u001b[0;34m\u001b[0m\u001b[0;34m\u001b[0m\u001b[0m\n\u001b[0;32m----> 3\u001b[0;31m \u001b[0ma\u001b[0m\u001b[0;34m.\u001b[0m\u001b[0mremove\u001b[0m\u001b[0;34m(\u001b[0m\u001b[0;36m22\u001b[0m\u001b[0;34m)\u001b[0m\u001b[0;34m\u001b[0m\u001b[0;34m\u001b[0m\u001b[0m\n\u001b[0m",
            "\u001b[0;31mKeyError\u001b[0m: 22"
          ]
        }
      ]
    },
    {
      "cell_type": "code",
      "source": [
        "a.discard(5)\n",
        "print(a)\n",
        "a.discard(22)"
      ],
      "metadata": {
        "colab": {
          "base_uri": "https://localhost:8080/"
        },
        "id": "24A-cZNdUgDy",
        "outputId": "815e91b2-c821-40e9-bc8f-ff1e089f710c"
      },
      "execution_count": null,
      "outputs": [
        {
          "output_type": "stream",
          "name": "stdout",
          "text": [
            "{2, 3, 6, 7, 8, 10, 11, 12, 13, 14, 15, 16, 17, 18, 19, 20}\n"
          ]
        }
      ]
    },
    {
      "cell_type": "code",
      "source": [
        "a.clear()\n",
        "print(a)"
      ],
      "metadata": {
        "colab": {
          "base_uri": "https://localhost:8080/"
        },
        "id": "uuwdZZeVUlH3",
        "outputId": "7fdaa31f-3e77-4866-d67f-20a5742ec149"
      },
      "execution_count": null,
      "outputs": [
        {
          "output_type": "stream",
          "name": "stdout",
          "text": [
            "set()\n"
          ]
        }
      ]
    },
    {
      "cell_type": "code",
      "source": [
        "#dictionary"
      ],
      "metadata": {
        "id": "04mymcbsU1u-"
      },
      "execution_count": null,
      "outputs": []
    },
    {
      "cell_type": "code",
      "source": [
        "a=dict()\n",
        "print(a)"
      ],
      "metadata": {
        "id": "NNGBpnFWM2mE",
        "outputId": "877f5392-4dab-4503-f68d-f8a6cf5e18d4",
        "colab": {
          "base_uri": "https://localhost:8080/"
        }
      },
      "execution_count": null,
      "outputs": [
        {
          "output_type": "stream",
          "name": "stdout",
          "text": [
            "{}\n"
          ]
        }
      ]
    },
    {
      "cell_type": "code",
      "source": [
        "\n",
        "a[1]='a'\n",
        "a[2]='b'"
      ],
      "metadata": {
        "id": "H2HC4_XYM_ek"
      },
      "execution_count": null,
      "outputs": []
    },
    {
      "cell_type": "code",
      "source": [
        "print(a)"
      ],
      "metadata": {
        "id": "q_xOYEzCNMN0",
        "outputId": "62563e89-5d36-463a-ef54-8a9b2e042f1d",
        "colab": {
          "base_uri": "https://localhost:8080/"
        }
      },
      "execution_count": null,
      "outputs": [
        {
          "output_type": "stream",
          "name": "stdout",
          "text": [
            "{1: 'a', 2: 'b'}\n"
          ]
        }
      ]
    },
    {
      "cell_type": "code",
      "source": [
        "print(a[1])"
      ],
      "metadata": {
        "id": "XuvpyDQUNOsk",
        "outputId": "5f616aed-2770-42c5-a206-c0e0c47404c5",
        "colab": {
          "base_uri": "https://localhost:8080/"
        }
      },
      "execution_count": null,
      "outputs": [
        {
          "output_type": "stream",
          "name": "stdout",
          "text": [
            "a\n"
          ]
        }
      ]
    },
    {
      "cell_type": "code",
      "source": [
        "if 21 in a:\n",
        "  print(a[21])\n",
        "else:\n",
        "  print('Not found')"
      ],
      "metadata": {
        "id": "FwhLcXwqNUvx",
        "outputId": "39a5d6df-2a02-4a8b-9226-2143827348cd",
        "colab": {
          "base_uri": "https://localhost:8080/"
        }
      },
      "execution_count": null,
      "outputs": [
        {
          "output_type": "stream",
          "name": "stdout",
          "text": [
            "Not found\n"
          ]
        }
      ]
    },
    {
      "cell_type": "code",
      "source": [
        "if 2 in a:\n",
        "  print(a[2])\n",
        "else:\n",
        "  print('Not found')"
      ],
      "metadata": {
        "id": "QTkUO3iANf08",
        "outputId": "d32ab43f-62fa-4fd7-ebb6-ece78e0169ee",
        "colab": {
          "base_uri": "https://localhost:8080/"
        }
      },
      "execution_count": null,
      "outputs": [
        {
          "output_type": "stream",
          "name": "stdout",
          "text": [
            "b\n"
          ]
        }
      ]
    },
    {
      "cell_type": "code",
      "source": [
        "a[3]='Appy'\n",
        "print(a)"
      ],
      "metadata": {
        "id": "YjidvrkjNi6i",
        "outputId": "10fdea2c-a2e9-4f23-d946-a26106ed1ad1",
        "colab": {
          "base_uri": "https://localhost:8080/"
        }
      },
      "execution_count": null,
      "outputs": [
        {
          "output_type": "stream",
          "name": "stdout",
          "text": [
            "{1: 'a', 2: 'b', 3: 'Appy'}\n"
          ]
        }
      ]
    },
    {
      "cell_type": "code",
      "source": [
        "a[2]='Python'\n",
        "print(a)"
      ],
      "metadata": {
        "id": "zdIfP-rPNuIM",
        "outputId": "8cf486bd-6c52-4832-e966-07e76187cd35",
        "colab": {
          "base_uri": "https://localhost:8080/"
        }
      },
      "execution_count": null,
      "outputs": [
        {
          "output_type": "stream",
          "name": "stdout",
          "text": [
            "{1: 'a', 2: 'Python', 3: 'Appy'}\n"
          ]
        }
      ]
    },
    {
      "cell_type": "code",
      "source": [
        "a[4]=a.pop(3)\n",
        "print(a)"
      ],
      "metadata": {
        "id": "fjQPDVFrN08L",
        "outputId": "6cc97986-70ef-47f9-88df-b68c2da47dab",
        "colab": {
          "base_uri": "https://localhost:8080/"
        }
      },
      "execution_count": null,
      "outputs": [
        {
          "output_type": "stream",
          "name": "stdout",
          "text": [
            "{1: 'a', 2: 'Python', 4: 'Appy'}\n"
          ]
        }
      ]
    },
    {
      "cell_type": "code",
      "source": [
        "dictionary= {1:'Apurvi',2:'Python',3:'Practice'}\n",
        "del dictionary[3]\n",
        "print(dictionary)\n"
      ],
      "metadata": {
        "id": "8zm7JeT4N8Dj",
        "outputId": "f41a6aef-ff77-4e9d-f5e5-fffc047adcfd",
        "colab": {
          "base_uri": "https://localhost:8080/"
        }
      },
      "execution_count": null,
      "outputs": [
        {
          "output_type": "stream",
          "name": "stdout",
          "text": [
            "{1: 'Apurvi', 2: 'Python'}\n"
          ]
        }
      ]
    },
    {
      "cell_type": "code",
      "source": [
        "del dictionary"
      ],
      "metadata": {
        "id": "K9GewCn9OjWf"
      },
      "execution_count": null,
      "outputs": []
    },
    {
      "cell_type": "code",
      "source": [
        "a.clear()\n",
        "print(a)"
      ],
      "metadata": {
        "id": "XDR84xQDOmxe",
        "outputId": "b4cea663-21cc-4633-e4c2-9281857e5491",
        "colab": {
          "base_uri": "https://localhost:8080/"
        }
      },
      "execution_count": null,
      "outputs": [
        {
          "output_type": "stream",
          "name": "stdout",
          "text": [
            "{}\n"
          ]
        }
      ]
    },
    {
      "cell_type": "code",
      "source": [
        "d=dict([(1,'ABC'),(2,'DFE'),(3,'GHI')])\n",
        "print(d)"
      ],
      "metadata": {
        "id": "7sK3isWlOsmy",
        "outputId": "fe094c78-d041-4235-cc91-6617399f0c75",
        "colab": {
          "base_uri": "https://localhost:8080/"
        }
      },
      "execution_count": null,
      "outputs": [
        {
          "output_type": "stream",
          "name": "stdout",
          "text": [
            "{1: 'ABC', 2: 'DFE', 3: 'GHI'}\n"
          ]
        }
      ]
    },
    {
      "cell_type": "code",
      "source": [
        "print(len(d))"
      ],
      "metadata": {
        "id": "iRIEkhIsPCa0",
        "outputId": "8b786dc6-ae2e-4dba-ea08-d48263be5658",
        "colab": {
          "base_uri": "https://localhost:8080/"
        }
      },
      "execution_count": null,
      "outputs": [
        {
          "output_type": "stream",
          "name": "stdout",
          "text": [
            "3\n"
          ]
        }
      ]
    },
    {
      "cell_type": "code",
      "source": [
        "print(d.get(3))"
      ],
      "metadata": {
        "id": "qhbQTBLRPIUs",
        "outputId": "9c3bce04-19d9-42f4-94c0-3860081f021e",
        "colab": {
          "base_uri": "https://localhost:8080/"
        }
      },
      "execution_count": null,
      "outputs": [
        {
          "output_type": "stream",
          "name": "stdout",
          "text": [
            "GHI\n"
          ]
        }
      ]
    },
    {
      "cell_type": "code",
      "source": [
        "print(d.get(4))"
      ],
      "metadata": {
        "id": "GKLredwMPMpi",
        "outputId": "ad044b2d-2470-448c-ab5a-64823539c40e",
        "colab": {
          "base_uri": "https://localhost:8080/"
        }
      },
      "execution_count": null,
      "outputs": [
        {
          "output_type": "stream",
          "name": "stdout",
          "text": [
            "None\n"
          ]
        }
      ]
    },
    {
      "cell_type": "code",
      "source": [
        "print(d.get(5,'Not Present'))"
      ],
      "metadata": {
        "id": "Y3Gs7bRaPQHX",
        "outputId": "7055c7d3-9bf0-419a-a9c0-88d4e294ac3a",
        "colab": {
          "base_uri": "https://localhost:8080/"
        }
      },
      "execution_count": null,
      "outputs": [
        {
          "output_type": "stream",
          "name": "stdout",
          "text": [
            "Not Present\n"
          ]
        }
      ]
    },
    {
      "cell_type": "code",
      "source": [
        "print(d.pop(1))"
      ],
      "metadata": {
        "id": "HMdmYCTwPUUI",
        "outputId": "f81491de-ff46-4751-c4d2-ad26c607fef7",
        "colab": {
          "base_uri": "https://localhost:8080/"
        }
      },
      "execution_count": null,
      "outputs": [
        {
          "output_type": "stream",
          "name": "stdout",
          "text": [
            "ABC\n"
          ]
        }
      ]
    },
    {
      "cell_type": "code",
      "source": [
        "print(d)"
      ],
      "metadata": {
        "id": "xS1yLpuZPljv",
        "outputId": "6063d10d-7e34-4c1a-8aa1-856b27509163",
        "colab": {
          "base_uri": "https://localhost:8080/"
        }
      },
      "execution_count": null,
      "outputs": [
        {
          "output_type": "stream",
          "name": "stdout",
          "text": [
            "{2: 'DFE', 3: 'GHI'}\n"
          ]
        }
      ]
    },
    {
      "cell_type": "code",
      "source": [
        "print(d.popitem())"
      ],
      "metadata": {
        "id": "4F6tSjfyPnGb",
        "outputId": "60673c12-4848-4d03-fd96-4951c306830d",
        "colab": {
          "base_uri": "https://localhost:8080/"
        }
      },
      "execution_count": null,
      "outputs": [
        {
          "output_type": "stream",
          "name": "stdout",
          "text": [
            "(3, 'GHI')\n"
          ]
        }
      ]
    },
    {
      "cell_type": "code",
      "source": [
        "print(d)"
      ],
      "metadata": {
        "id": "u8Q8l7r2Pr7A",
        "outputId": "82ad9aac-2521-484c-872a-d203d5617e9c",
        "colab": {
          "base_uri": "https://localhost:8080/"
        }
      },
      "execution_count": null,
      "outputs": [
        {
          "output_type": "stream",
          "name": "stdout",
          "text": [
            "{2: 'DFE'}\n"
          ]
        }
      ]
    },
    {
      "cell_type": "markdown",
      "source": [
        "dictionary= {1:'Apurvi',2:'Python',3:'Practice'}"
      ],
      "metadata": {
        "id": "w_2rJHz9PtfD"
      }
    },
    {
      "cell_type": "code",
      "source": [
        "dic=dictionary.copy()\n",
        "print(dic)"
      ],
      "metadata": {
        "id": "DKS6bKCFP5nJ",
        "outputId": "5e96b6d7-1c8c-4ce6-e24b-450cafd335c4",
        "colab": {
          "base_uri": "https://localhost:8080/"
        }
      },
      "execution_count": null,
      "outputs": [
        {
          "output_type": "stream",
          "name": "stdout",
          "text": [
            "{1: 'Apurvi', 2: 'Python', 3: 'Practice'}\n"
          ]
        }
      ]
    },
    {
      "cell_type": "code",
      "source": [
        "print(dictionary.keys())"
      ],
      "metadata": {
        "id": "_hOujAOlQC2L",
        "outputId": "57631082-6da4-47cf-9781-2e62b83ce4f2",
        "colab": {
          "base_uri": "https://localhost:8080/"
        }
      },
      "execution_count": null,
      "outputs": [
        {
          "output_type": "stream",
          "name": "stdout",
          "text": [
            "dict_keys([1, 2, 3])\n"
          ]
        }
      ]
    },
    {
      "cell_type": "code",
      "source": [
        "for i in dictionary.keys():\n",
        "  print (i)"
      ],
      "metadata": {
        "id": "4ISilliNQJB4",
        "outputId": "9bcfe2b7-122f-490b-f716-a5de3281f792",
        "colab": {
          "base_uri": "https://localhost:8080/"
        }
      },
      "execution_count": null,
      "outputs": [
        {
          "output_type": "stream",
          "name": "stdout",
          "text": [
            "1\n",
            "2\n",
            "3\n"
          ]
        }
      ]
    },
    {
      "cell_type": "code",
      "source": [
        "print(dictionary.values())"
      ],
      "metadata": {
        "id": "rP_mUhsbQWNP",
        "outputId": "55db9606-017c-4010-b5a1-5f3ab144956b",
        "colab": {
          "base_uri": "https://localhost:8080/"
        }
      },
      "execution_count": null,
      "outputs": [
        {
          "output_type": "stream",
          "name": "stdout",
          "text": [
            "dict_values(['Apurvi', 'Python', 'Practice'])\n"
          ]
        }
      ]
    },
    {
      "cell_type": "code",
      "source": [
        "for i in dictionary.values():\n",
        "  print (i)"
      ],
      "metadata": {
        "id": "Xv83RSTbQbTO",
        "outputId": "18a3e82f-af28-4a57-8c98-131a02eb3524",
        "colab": {
          "base_uri": "https://localhost:8080/"
        }
      },
      "execution_count": null,
      "outputs": [
        {
          "output_type": "stream",
          "name": "stdout",
          "text": [
            "Apurvi\n",
            "Python\n",
            "Practice\n"
          ]
        }
      ]
    },
    {
      "cell_type": "code",
      "source": [
        "print(dictionary.items())"
      ],
      "metadata": {
        "id": "yNJ_BY5VQe0M",
        "outputId": "7561770d-b514-4a42-dd00-09a637041d4f",
        "colab": {
          "base_uri": "https://localhost:8080/"
        }
      },
      "execution_count": null,
      "outputs": [
        {
          "output_type": "stream",
          "name": "stdout",
          "text": [
            "dict_items([(1, 'Apurvi'), (2, 'Python'), (3, 'Practice')])\n"
          ]
        }
      ]
    },
    {
      "cell_type": "code",
      "source": [
        "for i in dictionary.items():\n",
        "  print (i)"
      ],
      "metadata": {
        "id": "JwxD11CBQiYN",
        "outputId": "ec1cef29-5733-440b-e56d-d8d7f90932d8",
        "colab": {
          "base_uri": "https://localhost:8080/"
        }
      },
      "execution_count": null,
      "outputs": [
        {
          "output_type": "stream",
          "name": "stdout",
          "text": [
            "(1, 'Apurvi')\n",
            "(2, 'Python')\n",
            "(3, 'Practice')\n"
          ]
        }
      ]
    },
    {
      "cell_type": "code",
      "source": [
        "pip install numpy"
      ],
      "metadata": {
        "id": "JVc54P6kQlDB",
        "colab": {
          "base_uri": "https://localhost:8080/"
        },
        "outputId": "0e329482-bd67-475a-a817-34f2909db173"
      },
      "execution_count": 1,
      "outputs": [
        {
          "output_type": "stream",
          "name": "stdout",
          "text": [
            "Requirement already satisfied: numpy in /usr/local/lib/python3.11/dist-packages (2.0.2)\n"
          ]
        }
      ]
    },
    {
      "cell_type": "code",
      "source": [
        "#numerical python\n",
        "#multidimensional array,matrices\n",
        "#array - stirea multiple values in simple variable"
      ],
      "metadata": {
        "id": "8EQhpb7pE89j"
      },
      "execution_count": 2,
      "outputs": []
    },
    {
      "cell_type": "code",
      "source": [
        "import numpy as np\n",
        "ar=np.array([1,2,3])\n",
        "print(ar)"
      ],
      "metadata": {
        "colab": {
          "base_uri": "https://localhost:8080/"
        },
        "id": "7zZDREZyFJLG",
        "outputId": "60aaac58-0011-43ac-ae0b-81ab65522d5f"
      },
      "execution_count": 4,
      "outputs": [
        {
          "output_type": "stream",
          "name": "stdout",
          "text": [
            "[1 2 3]\n"
          ]
        }
      ]
    },
    {
      "cell_type": "code",
      "source": [
        "arr=np.array([[1,2,3],[4,5,6]])\n",
        "print(arr)"
      ],
      "metadata": {
        "colab": {
          "base_uri": "https://localhost:8080/"
        },
        "id": "KFNDhZkeFoH2",
        "outputId": "64b53fee-f5e4-4941-f43f-e041d7edae67"
      },
      "execution_count": 5,
      "outputs": [
        {
          "output_type": "stream",
          "name": "stdout",
          "text": [
            "[[1 2 3]\n",
            " [4 5 6]]\n"
          ]
        }
      ]
    },
    {
      "cell_type": "code",
      "source": [
        "tr=np.array((1,2,3))\n",
        "print(tr)"
      ],
      "metadata": {
        "colab": {
          "base_uri": "https://localhost:8080/"
        },
        "id": "TbWxa0JoF8mH",
        "outputId": "5f0d62af-d7ef-4aa3-a303-3846aa6e2000"
      },
      "execution_count": 7,
      "outputs": [
        {
          "output_type": "stream",
          "name": "stdout",
          "text": [
            "[1 2 3]\n"
          ]
        }
      ]
    },
    {
      "cell_type": "code",
      "source": [
        "arr1=np.array([[1,2,3],[4,5,6],[7,8,9]])\n",
        "print(arr)"
      ],
      "metadata": {
        "colab": {
          "base_uri": "https://localhost:8080/"
        },
        "id": "sTKMVJrqGGEX",
        "outputId": "82c9a67e-f6e7-4602-811a-8c57fba15556"
      },
      "execution_count": 8,
      "outputs": [
        {
          "output_type": "stream",
          "name": "stdout",
          "text": [
            "[[1 2 3]\n",
            " [4 5 6]]\n"
          ]
        }
      ]
    },
    {
      "cell_type": "code",
      "source": [
        "az=np.zeros((2,2))\n",
        "print(az)"
      ],
      "metadata": {
        "colab": {
          "base_uri": "https://localhost:8080/"
        },
        "id": "nr40QQu1GNkH",
        "outputId": "ec6cd928-6242-4565-be1e-00ba22c169c0"
      },
      "execution_count": 11,
      "outputs": [
        {
          "output_type": "stream",
          "name": "stdout",
          "text": [
            "[[0. 0.]\n",
            " [0. 0.]]\n"
          ]
        }
      ]
    },
    {
      "cell_type": "code",
      "source": [
        "azr=np.zeros((4,2))\n",
        "print(azr)"
      ],
      "metadata": {
        "colab": {
          "base_uri": "https://localhost:8080/"
        },
        "id": "d9dXtXeiGYIp",
        "outputId": "0c815308-cdd3-4aed-fcef-1ae5aacfdcc6"
      },
      "execution_count": 12,
      "outputs": [
        {
          "output_type": "stream",
          "name": "stdout",
          "text": [
            "[[0. 0.]\n",
            " [0. 0.]\n",
            " [0. 0.]\n",
            " [0. 0.]]\n"
          ]
        }
      ]
    },
    {
      "cell_type": "code",
      "source": [
        "ao=np.ones((2,3))\n",
        "print(ao)"
      ],
      "metadata": {
        "colab": {
          "base_uri": "https://localhost:8080/"
        },
        "id": "FzFj1j4_GedW",
        "outputId": "94b3d3c3-fe6d-412b-e799-18dfdbc32e70"
      },
      "execution_count": 13,
      "outputs": [
        {
          "output_type": "stream",
          "name": "stdout",
          "text": [
            "[[1. 1. 1.]\n",
            " [1. 1. 1.]]\n"
          ]
        }
      ]
    },
    {
      "cell_type": "code",
      "source": [
        "aon=np.ones((4,3))\n",
        "print(aon)"
      ],
      "metadata": {
        "colab": {
          "base_uri": "https://localhost:8080/"
        },
        "id": "w0k2SFx3Go9p",
        "outputId": "ab1e37eb-0b54-41e8-997c-66eb7d9e5d85"
      },
      "execution_count": 15,
      "outputs": [
        {
          "output_type": "stream",
          "name": "stdout",
          "text": [
            "[[1. 1. 1.]\n",
            " [1. 1. 1.]\n",
            " [1. 1. 1.]\n",
            " [1. 1. 1.]]\n"
          ]
        }
      ]
    },
    {
      "cell_type": "code",
      "source": [
        "ar=np.random.random((2,3))\n",
        "print(ar)"
      ],
      "metadata": {
        "colab": {
          "base_uri": "https://localhost:8080/"
        },
        "id": "U3mTt5KIGuAw",
        "outputId": "fae95487-f06e-4e08-c62f-181519a89062"
      },
      "execution_count": 17,
      "outputs": [
        {
          "output_type": "stream",
          "name": "stdout",
          "text": [
            "[[0.6978254  0.7159076  0.35774348]\n",
            " [0.05431923 0.55069304 0.11538007]]\n"
          ]
        }
      ]
    },
    {
      "cell_type": "code",
      "source": [
        "arn=np.arange(20,11,-1)\n",
        "print(arn)"
      ],
      "metadata": {
        "colab": {
          "base_uri": "https://localhost:8080/"
        },
        "id": "modYQjxSG9wS",
        "outputId": "662f8c36-76be-4223-b8d1-f3e17e04ec25"
      },
      "execution_count": 26,
      "outputs": [
        {
          "output_type": "stream",
          "name": "stdout",
          "text": [
            "[20 19 18 17 16 15 14 13 12]\n"
          ]
        }
      ]
    },
    {
      "cell_type": "code",
      "source": [
        "arn1=np.arange(20,25,1)\n",
        "print(arn)"
      ],
      "metadata": {
        "colab": {
          "base_uri": "https://localhost:8080/"
        },
        "id": "jCf9BYi7He48",
        "outputId": "15f9211e-25e7-4a91-d4ef-46a45d0c0121"
      },
      "execution_count": 27,
      "outputs": [
        {
          "output_type": "stream",
          "name": "stdout",
          "text": [
            "[20 19 18 17 16 15 14 13 12]\n"
          ]
        }
      ]
    },
    {
      "cell_type": "code",
      "source": [
        "lin=np.linspace(2,6,7)\n",
        "print(lin)"
      ],
      "metadata": {
        "colab": {
          "base_uri": "https://localhost:8080/"
        },
        "id": "RdbYC0CKHjN2",
        "outputId": "3254f9c8-ed49-4a80-ec11-ef7253a0fe39"
      },
      "execution_count": 30,
      "outputs": [
        {
          "output_type": "stream",
          "name": "stdout",
          "text": [
            "[2.         2.66666667 3.33333333 4.         4.66666667 5.33333333\n",
            " 6.        ]\n"
          ]
        }
      ]
    },
    {
      "cell_type": "code",
      "source": [
        "lin1=np.linspace(2,6,7,endpoint=False)\n",
        "print(lin1)"
      ],
      "metadata": {
        "colab": {
          "base_uri": "https://localhost:8080/"
        },
        "id": "12N9PNX4JfLT",
        "outputId": "8143f44f-48ed-41a3-c6d9-630c24240820"
      },
      "execution_count": 33,
      "outputs": [
        {
          "output_type": "stream",
          "name": "stdout",
          "text": [
            "[2.         2.57142857 3.14285714 3.71428571 4.28571429 4.85714286\n",
            " 5.42857143]\n"
          ]
        }
      ]
    },
    {
      "cell_type": "code",
      "source": [
        "lin2=np.linspace(2,6,7,retstep=True)\n",
        "print(lin2)"
      ],
      "metadata": {
        "colab": {
          "base_uri": "https://localhost:8080/"
        },
        "id": "XLfvI6STJoc8",
        "outputId": "17e195e1-d550-4da3-d863-c4bea45bd21b"
      },
      "execution_count": 34,
      "outputs": [
        {
          "output_type": "stream",
          "name": "stdout",
          "text": [
            "(array([2.        , 2.66666667, 3.33333333, 4.        , 4.66666667,\n",
            "       5.33333333, 6.        ]), np.float64(0.6666666666666666))\n"
          ]
        }
      ]
    },
    {
      "cell_type": "code",
      "source": [
        "lin3=np.linspace(2,6,7,dtype=None)\n",
        "print(lin3)"
      ],
      "metadata": {
        "colab": {
          "base_uri": "https://localhost:8080/"
        },
        "id": "FVvXU96ZJ01a",
        "outputId": "6fe1d57b-a177-400e-fb37-f4301d90a13a"
      },
      "execution_count": 37,
      "outputs": [
        {
          "output_type": "stream",
          "name": "stdout",
          "text": [
            "[2.         2.66666667 3.33333333 4.         4.66666667 5.33333333\n",
            " 6.        ]\n"
          ]
        }
      ]
    },
    {
      "cell_type": "code",
      "source": [
        "lin4=np.linspace(2,6,6,axis=0)\n",
        "print(lin4)"
      ],
      "metadata": {
        "colab": {
          "base_uri": "https://localhost:8080/"
        },
        "id": "WT4OI1Y-J_d-",
        "outputId": "b76c0ef2-e2a7-4c43-ae2d-f4fb84de9812"
      },
      "execution_count": 41,
      "outputs": [
        {
          "output_type": "stream",
          "name": "stdout",
          "text": [
            "[2.  2.8 3.6 4.4 5.2 6. ]\n"
          ]
        }
      ]
    },
    {
      "cell_type": "code",
      "source": [
        "lin5=lin4.reshape((2,3))\n",
        "print(lin5)"
      ],
      "metadata": {
        "colab": {
          "base_uri": "https://localhost:8080/"
        },
        "id": "J6ueXHFXKGt3",
        "outputId": "a81710bb-b819-46fc-e0e7-db2fac115cd2"
      },
      "execution_count": 43,
      "outputs": [
        {
          "output_type": "stream",
          "name": "stdout",
          "text": [
            "[[2.  2.8 3.6]\n",
            " [4.4 5.2 6. ]]\n"
          ]
        }
      ]
    },
    {
      "cell_type": "code",
      "source": [
        "f=lin5.flatten()\n",
        "print(f)"
      ],
      "metadata": {
        "colab": {
          "base_uri": "https://localhost:8080/"
        },
        "id": "Pwkaph85KgSH",
        "outputId": "03745e84-2c33-4a5c-8143-090a410131ce"
      },
      "execution_count": 45,
      "outputs": [
        {
          "output_type": "stream",
          "name": "stdout",
          "text": [
            "[2.  2.8 3.6 4.4 5.2 6. ]\n"
          ]
        }
      ]
    },
    {
      "cell_type": "code",
      "source": [
        "ar1=np.array([1+2j, 3+4j])\n",
        "ar2=np.array(['2023-01-01', '2024-01-01'])\n",
        "ar3=np.array([True, False, True])\n",
        "ar4=np.array(['apple', 'banana', 'cherry'])\n",
        "ar5=np.array([1.5, 2.5, 3.5])\n",
        "ar6=np.array([1, 2, 3])"
      ],
      "metadata": {
        "id": "mgRlnUr9LYf7"
      },
      "execution_count": 47,
      "outputs": []
    },
    {
      "cell_type": "code",
      "source": [
        "print(ar1.dtype)\n",
        "print(ar2.dtype)\n",
        "print(ar3.dtype)\n",
        "print(ar5.dtype)\n",
        "print(ar4.dtype)\n",
        "print(ar6.dtype)"
      ],
      "metadata": {
        "colab": {
          "base_uri": "https://localhost:8080/"
        },
        "id": "BgenKIMzLz-5",
        "outputId": "333c9fea-5b82-4707-e192-19e258405df9"
      },
      "execution_count": 50,
      "outputs": [
        {
          "output_type": "stream",
          "name": "stdout",
          "text": [
            "complex128\n",
            "<U10\n",
            "bool\n",
            "float64\n",
            "<U6\n",
            "int64\n"
          ]
        }
      ]
    },
    {
      "cell_type": "code",
      "source": [
        "ar2.ndim"
      ],
      "metadata": {
        "colab": {
          "base_uri": "https://localhost:8080/"
        },
        "id": "s4two0e8MUKy",
        "outputId": "ed33adb6-038f-4c46-ee5f-428b19812392"
      },
      "execution_count": 51,
      "outputs": [
        {
          "output_type": "execute_result",
          "data": {
            "text/plain": [
              "1"
            ]
          },
          "metadata": {},
          "execution_count": 51
        }
      ]
    },
    {
      "cell_type": "code",
      "source": [
        "az.ndim"
      ],
      "metadata": {
        "colab": {
          "base_uri": "https://localhost:8080/"
        },
        "id": "QO0lZ70RMiUH",
        "outputId": "890096f3-be2d-4bc3-f85c-cf25b3d2db22"
      },
      "execution_count": 52,
      "outputs": [
        {
          "output_type": "execute_result",
          "data": {
            "text/plain": [
              "2"
            ]
          },
          "metadata": {},
          "execution_count": 52
        }
      ]
    },
    {
      "cell_type": "code",
      "source": [
        "ar2.size"
      ],
      "metadata": {
        "colab": {
          "base_uri": "https://localhost:8080/"
        },
        "id": "OqJMuOmxMoun",
        "outputId": "40f45da9-e62c-4502-8d29-e5220844c8a9"
      },
      "execution_count": 53,
      "outputs": [
        {
          "output_type": "execute_result",
          "data": {
            "text/plain": [
              "2"
            ]
          },
          "metadata": {},
          "execution_count": 53
        }
      ]
    },
    {
      "cell_type": "code",
      "source": [
        "az.size"
      ],
      "metadata": {
        "colab": {
          "base_uri": "https://localhost:8080/"
        },
        "id": "lrOnlA3mMszC",
        "outputId": "47074736-6fa0-4882-8759-895b05afaf2f"
      },
      "execution_count": 54,
      "outputs": [
        {
          "output_type": "execute_result",
          "data": {
            "text/plain": [
              "4"
            ]
          },
          "metadata": {},
          "execution_count": 54
        }
      ]
    },
    {
      "cell_type": "code",
      "source": [
        "ar2.itemsize"
      ],
      "metadata": {
        "colab": {
          "base_uri": "https://localhost:8080/"
        },
        "id": "J-d32HC8M1Zn",
        "outputId": "aaed3a80-506c-4f47-80fb-0e191a49fbe8"
      },
      "execution_count": 55,
      "outputs": [
        {
          "output_type": "execute_result",
          "data": {
            "text/plain": [
              "40"
            ]
          },
          "metadata": {},
          "execution_count": 55
        }
      ]
    },
    {
      "cell_type": "code",
      "source": [
        "ar2.shape"
      ],
      "metadata": {
        "colab": {
          "base_uri": "https://localhost:8080/"
        },
        "id": "4KakcmOiM3Vd",
        "outputId": "ec4acc68-a3de-45d7-d3a7-b81d3341fdf5"
      },
      "execution_count": 56,
      "outputs": [
        {
          "output_type": "execute_result",
          "data": {
            "text/plain": [
              "(2,)"
            ]
          },
          "metadata": {},
          "execution_count": 56
        }
      ]
    },
    {
      "cell_type": "code",
      "source": [
        "az.shape"
      ],
      "metadata": {
        "colab": {
          "base_uri": "https://localhost:8080/"
        },
        "id": "iUK_TwI8M51P",
        "outputId": "092508a7-ddf2-4763-eaa5-e9a75be86828"
      },
      "execution_count": 57,
      "outputs": [
        {
          "output_type": "execute_result",
          "data": {
            "text/plain": [
              "(2, 2)"
            ]
          },
          "metadata": {},
          "execution_count": 57
        }
      ]
    },
    {
      "cell_type": "code",
      "source": [
        "type(az)"
      ],
      "metadata": {
        "colab": {
          "base_uri": "https://localhost:8080/"
        },
        "id": "9p_-qSAqNASh",
        "outputId": "6c970e56-f0df-4baa-f5ca-df0f76cb05c4"
      },
      "execution_count": 58,
      "outputs": [
        {
          "output_type": "execute_result",
          "data": {
            "text/plain": [
              "numpy.ndarray"
            ]
          },
          "metadata": {},
          "execution_count": 58
        }
      ]
    },
    {
      "cell_type": "code",
      "source": [
        "ar"
      ],
      "metadata": {
        "colab": {
          "base_uri": "https://localhost:8080/"
        },
        "id": "i9DnzOKwNKPT",
        "outputId": "c069c3c6-f62c-4c2b-c7bb-a1ab638886f8"
      },
      "execution_count": 59,
      "outputs": [
        {
          "output_type": "execute_result",
          "data": {
            "text/plain": [
              "array([[0.6978254 , 0.7159076 , 0.35774348],\n",
              "       [0.05431923, 0.55069304, 0.11538007]])"
            ]
          },
          "metadata": {},
          "execution_count": 59
        }
      ]
    },
    {
      "cell_type": "code",
      "source": [
        "art=ar.transpose()\n",
        "print(art)"
      ],
      "metadata": {
        "colab": {
          "base_uri": "https://localhost:8080/"
        },
        "id": "_SN5BddRNcxI",
        "outputId": "f544aa27-77da-406b-e634-117c51a01361"
      },
      "execution_count": 60,
      "outputs": [
        {
          "output_type": "stream",
          "name": "stdout",
          "text": [
            "[[0.6978254  0.05431923]\n",
            " [0.7159076  0.55069304]\n",
            " [0.35774348 0.11538007]]\n"
          ]
        }
      ]
    },
    {
      "cell_type": "code",
      "source": [
        "arr_1d = np.array([10, 20, 30, 40])\n",
        "print(arr_1d)\n",
        "\n",
        "arr_2d = np.array([[1, 2, 3], [4, 5, 6]])\n",
        "print(arr_2d)"
      ],
      "metadata": {
        "colab": {
          "base_uri": "https://localhost:8080/"
        },
        "id": "6zTd8DvQNkft",
        "outputId": "e6080602-f442-4629-d294-3b975b08ca40"
      },
      "execution_count": 62,
      "outputs": [
        {
          "output_type": "stream",
          "name": "stdout",
          "text": [
            "[10 20 30 40]\n",
            "[[1 2 3]\n",
            " [4 5 6]]\n"
          ]
        }
      ]
    },
    {
      "cell_type": "code",
      "source": [
        "arr_1d[1]"
      ],
      "metadata": {
        "colab": {
          "base_uri": "https://localhost:8080/"
        },
        "id": "hF7yKUADOJis",
        "outputId": "92a7b8bc-64d3-4bf4-d75d-85d8f9eb2cff"
      },
      "execution_count": 66,
      "outputs": [
        {
          "output_type": "execute_result",
          "data": {
            "text/plain": [
              "np.int64(20)"
            ]
          },
          "metadata": {},
          "execution_count": 66
        }
      ]
    },
    {
      "cell_type": "code",
      "source": [
        "arr_2d[1,1]"
      ],
      "metadata": {
        "colab": {
          "base_uri": "https://localhost:8080/"
        },
        "id": "NEw3gqs1OSTO",
        "outputId": "7ae59db6-3a9b-4230-eb78-c00df483cca2"
      },
      "execution_count": 67,
      "outputs": [
        {
          "output_type": "execute_result",
          "data": {
            "text/plain": [
              "np.int64(5)"
            ]
          },
          "metadata": {},
          "execution_count": 67
        }
      ]
    },
    {
      "cell_type": "code",
      "source": [
        "arr_1d[1:3]"
      ],
      "metadata": {
        "colab": {
          "base_uri": "https://localhost:8080/"
        },
        "id": "ZnbJ5vBaOa2i",
        "outputId": "bbf056bd-6a1d-4d7e-97b0-c12b4259517c"
      },
      "execution_count": 68,
      "outputs": [
        {
          "output_type": "execute_result",
          "data": {
            "text/plain": [
              "array([20, 30])"
            ]
          },
          "metadata": {},
          "execution_count": 68
        }
      ]
    },
    {
      "cell_type": "code",
      "source": [
        "arr_2d[0:,1:]"
      ],
      "metadata": {
        "colab": {
          "base_uri": "https://localhost:8080/"
        },
        "id": "nneHekhQOo3S",
        "outputId": "ba6bd81a-53ba-4f26-f52a-33b1e953edba"
      },
      "execution_count": 70,
      "outputs": [
        {
          "output_type": "execute_result",
          "data": {
            "text/plain": [
              "array([[2, 3],\n",
              "       [5, 6]])"
            ]
          },
          "metadata": {},
          "execution_count": 70
        }
      ]
    },
    {
      "cell_type": "code",
      "source": [
        "arr_1d"
      ],
      "metadata": {
        "colab": {
          "base_uri": "https://localhost:8080/"
        },
        "id": "ZAYPgcPgO1dI",
        "outputId": "9e42b531-9ce4-4ff7-c674-27769a747414"
      },
      "execution_count": 71,
      "outputs": [
        {
          "output_type": "execute_result",
          "data": {
            "text/plain": [
              "array([10, 20, 30, 40])"
            ]
          },
          "metadata": {},
          "execution_count": 71
        }
      ]
    },
    {
      "cell_type": "code",
      "source": [
        "arr_2d"
      ],
      "metadata": {
        "colab": {
          "base_uri": "https://localhost:8080/"
        },
        "id": "_lQJ0ZiXO-ie",
        "outputId": "f2862a1b-6443-47e2-94d9-d54645d0c112"
      },
      "execution_count": 72,
      "outputs": [
        {
          "output_type": "execute_result",
          "data": {
            "text/plain": [
              "array([[1, 2, 3],\n",
              "       [4, 5, 6]])"
            ]
          },
          "metadata": {},
          "execution_count": 72
        }
      ]
    },
    {
      "cell_type": "code",
      "source": [
        "arr_1d*5"
      ],
      "metadata": {
        "colab": {
          "base_uri": "https://localhost:8080/"
        },
        "id": "7QPd2X5_O_4B",
        "outputId": "1c7f4957-cf51-4cff-9849-1b74d579e495"
      },
      "execution_count": 73,
      "outputs": [
        {
          "output_type": "execute_result",
          "data": {
            "text/plain": [
              "array([ 50, 100, 150, 200])"
            ]
          },
          "metadata": {},
          "execution_count": 73
        }
      ]
    },
    {
      "cell_type": "code",
      "source": [
        "arr_2d+2"
      ],
      "metadata": {
        "colab": {
          "base_uri": "https://localhost:8080/"
        },
        "id": "ecQ8XPSePFw-",
        "outputId": "0f2486a7-b9f3-48b4-bcd0-f92ca4b37111"
      },
      "execution_count": 74,
      "outputs": [
        {
          "output_type": "execute_result",
          "data": {
            "text/plain": [
              "array([[3, 4, 5],\n",
              "       [6, 7, 8]])"
            ]
          },
          "metadata": {},
          "execution_count": 74
        }
      ]
    },
    {
      "cell_type": "code",
      "source": [
        "arr_2d"
      ],
      "metadata": {
        "colab": {
          "base_uri": "https://localhost:8080/"
        },
        "id": "8oh9i9K6PIm5",
        "outputId": "d4181a45-6788-4d2a-8111-dff1cd552e0d"
      },
      "execution_count": 75,
      "outputs": [
        {
          "output_type": "execute_result",
          "data": {
            "text/plain": [
              "array([[1, 2, 3],\n",
              "       [4, 5, 6]])"
            ]
          },
          "metadata": {},
          "execution_count": 75
        }
      ]
    },
    {
      "cell_type": "code",
      "source": [
        "print(arr_2d+arr_2d)"
      ],
      "metadata": {
        "colab": {
          "base_uri": "https://localhost:8080/"
        },
        "id": "GN7tlvAYPKvv",
        "outputId": "6a913355-ccd3-4d6b-dd86-e5dc1e6c3923"
      },
      "execution_count": 76,
      "outputs": [
        {
          "output_type": "stream",
          "name": "stdout",
          "text": [
            "[[ 2  4  6]\n",
            " [ 8 10 12]]\n"
          ]
        }
      ]
    },
    {
      "cell_type": "code",
      "source": [
        "print(arr_2d-arr_2d)"
      ],
      "metadata": {
        "colab": {
          "base_uri": "https://localhost:8080/"
        },
        "id": "KJON8cPAP7bk",
        "outputId": "95ba9d52-f010-42e3-de51-965df7942f5d"
      },
      "execution_count": 77,
      "outputs": [
        {
          "output_type": "stream",
          "name": "stdout",
          "text": [
            "[[0 0 0]\n",
            " [0 0 0]]\n"
          ]
        }
      ]
    },
    {
      "cell_type": "code",
      "source": [
        "print(arr_2d*arr_2d)"
      ],
      "metadata": {
        "colab": {
          "base_uri": "https://localhost:8080/"
        },
        "id": "w8YQ6WpAP_Tu",
        "outputId": "1ae11ba2-da5e-4670-f5ed-7d1e2a45430a"
      },
      "execution_count": 78,
      "outputs": [
        {
          "output_type": "stream",
          "name": "stdout",
          "text": [
            "[[ 1  4  9]\n",
            " [16 25 36]]\n"
          ]
        }
      ]
    },
    {
      "cell_type": "code",
      "source": [
        "print(arr_2d/arr_2d)"
      ],
      "metadata": {
        "colab": {
          "base_uri": "https://localhost:8080/"
        },
        "id": "WoHJH3N1QA8v",
        "outputId": "be4d0e95-c031-45df-987f-019487007150"
      },
      "execution_count": 79,
      "outputs": [
        {
          "output_type": "stream",
          "name": "stdout",
          "text": [
            "[[1. 1. 1.]\n",
            " [1. 1. 1.]]\n"
          ]
        }
      ]
    },
    {
      "cell_type": "code",
      "source": [
        "print(arr_2d%arr_2d)"
      ],
      "metadata": {
        "colab": {
          "base_uri": "https://localhost:8080/"
        },
        "id": "k0hEfiXrQDlj",
        "outputId": "266416ac-b779-44b2-8b37-eac2ceb86705"
      },
      "execution_count": 80,
      "outputs": [
        {
          "output_type": "stream",
          "name": "stdout",
          "text": [
            "[[0 0 0]\n",
            " [0 0 0]]\n"
          ]
        }
      ]
    },
    {
      "cell_type": "code",
      "source": [
        "arr_2d.min()"
      ],
      "metadata": {
        "colab": {
          "base_uri": "https://localhost:8080/"
        },
        "id": "CxDkFo-fQFMT",
        "outputId": "35fd55ab-a446-4da8-d587-bd0b9e13d2bd"
      },
      "execution_count": 83,
      "outputs": [
        {
          "output_type": "execute_result",
          "data": {
            "text/plain": [
              "np.int64(1)"
            ]
          },
          "metadata": {},
          "execution_count": 83
        }
      ]
    },
    {
      "cell_type": "code",
      "source": [
        "arr_2d.max()"
      ],
      "metadata": {
        "colab": {
          "base_uri": "https://localhost:8080/"
        },
        "id": "T4ihIXPdQgvC",
        "outputId": "ff453e86-ded5-48e2-f53a-3f8a9aa03dc1"
      },
      "execution_count": 84,
      "outputs": [
        {
          "output_type": "execute_result",
          "data": {
            "text/plain": [
              "np.int64(6)"
            ]
          },
          "metadata": {},
          "execution_count": 84
        }
      ]
    },
    {
      "cell_type": "code",
      "source": [
        "arr_2d"
      ],
      "metadata": {
        "colab": {
          "base_uri": "https://localhost:8080/"
        },
        "id": "rIhQec8kQkbx",
        "outputId": "0ff7bc06-9faf-4708-c576-5e3c353862d6"
      },
      "execution_count": 85,
      "outputs": [
        {
          "output_type": "execute_result",
          "data": {
            "text/plain": [
              "array([[1, 2, 3],\n",
              "       [4, 5, 6]])"
            ]
          },
          "metadata": {},
          "execution_count": 85
        }
      ]
    },
    {
      "cell_type": "code",
      "source": [
        "np.min(arr_2d,axis=0)"
      ],
      "metadata": {
        "colab": {
          "base_uri": "https://localhost:8080/"
        },
        "id": "nU293eqFQn4_",
        "outputId": "cf35765e-7a64-4c7f-8aa1-9dc914baa43f"
      },
      "execution_count": 86,
      "outputs": [
        {
          "output_type": "execute_result",
          "data": {
            "text/plain": [
              "array([1, 2, 3])"
            ]
          },
          "metadata": {},
          "execution_count": 86
        }
      ]
    },
    {
      "cell_type": "code",
      "source": [
        "np.min(arr_2d,axis=1)"
      ],
      "metadata": {
        "colab": {
          "base_uri": "https://localhost:8080/"
        },
        "id": "ED_N_bfiQyl0",
        "outputId": "ff43ccda-92a2-4fdf-80bc-00a9f232dbcc"
      },
      "execution_count": 87,
      "outputs": [
        {
          "output_type": "execute_result",
          "data": {
            "text/plain": [
              "array([1, 4])"
            ]
          },
          "metadata": {},
          "execution_count": 87
        }
      ]
    },
    {
      "cell_type": "code",
      "source": [
        "np.max(arr_2d,axis=0)"
      ],
      "metadata": {
        "colab": {
          "base_uri": "https://localhost:8080/"
        },
        "id": "AskQO0hjQ1Be",
        "outputId": "2934e490-30e9-4322-9a5a-429c1147d6ec"
      },
      "execution_count": 88,
      "outputs": [
        {
          "output_type": "execute_result",
          "data": {
            "text/plain": [
              "array([4, 5, 6])"
            ]
          },
          "metadata": {},
          "execution_count": 88
        }
      ]
    },
    {
      "cell_type": "code",
      "source": [
        "np.max(arr_2d,axis=1)"
      ],
      "metadata": {
        "colab": {
          "base_uri": "https://localhost:8080/"
        },
        "id": "iqP-qK8SQ3TJ",
        "outputId": "ac4ccb7e-eb92-44be-ef46-2baa9991073b"
      },
      "execution_count": 89,
      "outputs": [
        {
          "output_type": "execute_result",
          "data": {
            "text/plain": [
              "array([3, 6])"
            ]
          },
          "metadata": {},
          "execution_count": 89
        }
      ]
    },
    {
      "cell_type": "code",
      "source": [
        "np.mean(arr_2d)"
      ],
      "metadata": {
        "colab": {
          "base_uri": "https://localhost:8080/"
        },
        "id": "EHcOpvsyQ5yH",
        "outputId": "000c699b-a5b4-4570-a2d7-ccf3c548d5fa"
      },
      "execution_count": 90,
      "outputs": [
        {
          "output_type": "execute_result",
          "data": {
            "text/plain": [
              "np.float64(3.5)"
            ]
          },
          "metadata": {},
          "execution_count": 90
        }
      ]
    },
    {
      "cell_type": "code",
      "source": [
        "np.median(arr_2d)"
      ],
      "metadata": {
        "colab": {
          "base_uri": "https://localhost:8080/"
        },
        "id": "WIE2v-MSQ_x5",
        "outputId": "e94fe4dc-ca59-4043-a735-00ab37d6a970"
      },
      "execution_count": 91,
      "outputs": [
        {
          "output_type": "execute_result",
          "data": {
            "text/plain": [
              "np.float64(3.5)"
            ]
          },
          "metadata": {},
          "execution_count": 91
        }
      ]
    },
    {
      "cell_type": "code",
      "source": [
        "np.average(arr_2d)"
      ],
      "metadata": {
        "colab": {
          "base_uri": "https://localhost:8080/"
        },
        "id": "ArbB-YpVRF3a",
        "outputId": "d1524883-14bf-4baf-a396-b6ffdb40dc61"
      },
      "execution_count": 92,
      "outputs": [
        {
          "output_type": "execute_result",
          "data": {
            "text/plain": [
              "np.float64(3.5)"
            ]
          },
          "metadata": {},
          "execution_count": 92
        }
      ]
    },
    {
      "cell_type": "code",
      "source": [
        "np.var(arr_2d)  #distance between data points"
      ],
      "metadata": {
        "colab": {
          "base_uri": "https://localhost:8080/"
        },
        "id": "O8Sbqzl-RKlX",
        "outputId": "99cfad9f-9ff4-46cf-d4cc-b305834cc49a"
      },
      "execution_count": 93,
      "outputs": [
        {
          "output_type": "execute_result",
          "data": {
            "text/plain": [
              "np.float64(2.9166666666666665)"
            ]
          },
          "metadata": {},
          "execution_count": 93
        }
      ]
    },
    {
      "cell_type": "code",
      "source": [
        "np.std(arr_2d)  #distance from mean to data points"
      ],
      "metadata": {
        "colab": {
          "base_uri": "https://localhost:8080/"
        },
        "id": "UGoLO5GKROVS",
        "outputId": "a15e0c61-2cb9-4aaa-ec87-d91d39fbe119"
      },
      "execution_count": 94,
      "outputs": [
        {
          "output_type": "execute_result",
          "data": {
            "text/plain": [
              "np.float64(1.707825127659933)"
            ]
          },
          "metadata": {},
          "execution_count": 94
        }
      ]
    },
    {
      "cell_type": "code",
      "source": [],
      "metadata": {
        "id": "SG4CyiptOEjw"
      },
      "execution_count": null,
      "outputs": []
    },
    {
      "cell_type": "code",
      "source": [],
      "metadata": {
        "id": "0HRmh3O2MAwk"
      },
      "execution_count": null,
      "outputs": []
    }
  ]
}